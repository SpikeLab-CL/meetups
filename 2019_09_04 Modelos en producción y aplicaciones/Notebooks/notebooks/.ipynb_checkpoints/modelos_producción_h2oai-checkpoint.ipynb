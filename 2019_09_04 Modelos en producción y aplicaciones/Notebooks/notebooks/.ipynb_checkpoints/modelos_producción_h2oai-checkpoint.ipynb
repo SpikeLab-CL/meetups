{
 "cells": [
  {
   "cell_type": "markdown",
   "metadata": {},
   "source": [
    "Algunas caracteristicas:\n",
    "\n",
    "* Gran variedad de algoritmos de Machine Learning.\n",
    "* H2O funciona de forma local o a través de un cluster de máquinas (algoritmos paralelizados).\n",
    "* Integración con Spark vía [Sparkling Water](https://github.com/h2oai/sparkling-water).\n",
    "* [H2O4GPU](https://github.com/h2oai/h2o4gpu) con algoritmos que se ejecutan en GPU\n",
    "* H2O Flow como interfaz gráfica para entrenar modelos sin escribir código."
   ]
  },
  {
   "cell_type": "markdown",
   "metadata": {},
   "source": [
    "### Levantamos un servidor de [H2O](https://www.h2o.ai/products/h2o/)"
   ]
  },
  {
   "cell_type": "code",
   "execution_count": 1,
   "metadata": {},
   "outputs": [
    {
     "name": "stdout",
     "output_type": "stream",
     "text": [
      "Checking whether there is an H2O instance running at http://localhost:54321 . connected.\n"
     ]
    },
    {
     "data": {
      "text/html": [
       "<div style=\"overflow:auto\"><table style=\"width:50%\"><tr><td>H2O cluster uptime:</td>\n",
       "<td>1 day 0 hours 49 mins</td></tr>\n",
       "<tr><td>H2O cluster timezone:</td>\n",
       "<td>America/Santiago</td></tr>\n",
       "<tr><td>H2O data parsing timezone:</td>\n",
       "<td>UTC</td></tr>\n",
       "<tr><td>H2O cluster version:</td>\n",
       "<td>3.26.0.3</td></tr>\n",
       "<tr><td>H2O cluster version age:</td>\n",
       "<td>11 days </td></tr>\n",
       "<tr><td>H2O cluster name:</td>\n",
       "<td>H2O_from_python_maravenag_8ac30g</td></tr>\n",
       "<tr><td>H2O cluster total nodes:</td>\n",
       "<td>1</td></tr>\n",
       "<tr><td>H2O cluster free memory:</td>\n",
       "<td>3.240 Gb</td></tr>\n",
       "<tr><td>H2O cluster total cores:</td>\n",
       "<td>8</td></tr>\n",
       "<tr><td>H2O cluster allowed cores:</td>\n",
       "<td>8</td></tr>\n",
       "<tr><td>H2O cluster status:</td>\n",
       "<td>locked, healthy</td></tr>\n",
       "<tr><td>H2O connection url:</td>\n",
       "<td>http://localhost:54321</td></tr>\n",
       "<tr><td>H2O connection proxy:</td>\n",
       "<td>None</td></tr>\n",
       "<tr><td>H2O internal security:</td>\n",
       "<td>False</td></tr>\n",
       "<tr><td>H2O API Extensions:</td>\n",
       "<td>Amazon S3, XGBoost, Algos, AutoML, Core V3, Core V4</td></tr>\n",
       "<tr><td>Python version:</td>\n",
       "<td>3.6.7 final</td></tr></table></div>"
      ],
      "text/plain": [
       "--------------------------  ---------------------------------------------------\n",
       "H2O cluster uptime:         1 day 0 hours 49 mins\n",
       "H2O cluster timezone:       America/Santiago\n",
       "H2O data parsing timezone:  UTC\n",
       "H2O cluster version:        3.26.0.3\n",
       "H2O cluster version age:    11 days\n",
       "H2O cluster name:           H2O_from_python_maravenag_8ac30g\n",
       "H2O cluster total nodes:    1\n",
       "H2O cluster free memory:    3.240 Gb\n",
       "H2O cluster total cores:    8\n",
       "H2O cluster allowed cores:  8\n",
       "H2O cluster status:         locked, healthy\n",
       "H2O connection url:         http://localhost:54321\n",
       "H2O connection proxy:\n",
       "H2O internal security:      False\n",
       "H2O API Extensions:         Amazon S3, XGBoost, Algos, AutoML, Core V3, Core V4\n",
       "Python version:             3.6.7 final\n",
       "--------------------------  ---------------------------------------------------"
      ]
     },
     "metadata": {},
     "output_type": "display_data"
    }
   ],
   "source": [
    "import h2o\n",
    "h2o.init()\n",
    "h2o.remove_all()"
   ]
  },
  {
   "cell_type": "markdown",
   "metadata": {},
   "source": [
    "### Cargamos los datos para nuestro modelo\n",
    "\n",
    "H2O permite cargar datos desde diferentes fuentes:\n",
    "\n",
    "    1) Local File System\n",
    "    2) Remote File\n",
    "    3) S3\n",
    "    4) HDFS\n",
    "    5) JDBC\n",
    "    6) Hive\n",
    "    \n",
    "### Modelo de gastos médicos (datos de Kaggle)\n",
    "\n",
    "Dadas las características de una persona, trataremos de predecir cuánto van a gastar en salud (`charges`).\n"
   ]
  },
  {
   "cell_type": "code",
   "execution_count": 2,
   "metadata": {},
   "outputs": [
    {
     "name": "stdout",
     "output_type": "stream",
     "text": [
      "Parse progress: |█████████████████████████████████████████████████████████| 100%\n"
     ]
    },
    {
     "data": {
      "text/html": [
       "<table>\n",
       "<thead>\n",
       "<tr><th style=\"text-align: right;\">  age</th><th>sex   </th><th style=\"text-align: right;\">   bmi</th><th style=\"text-align: right;\">  children</th><th>smoker  </th><th>region   </th><th style=\"text-align: right;\">  charges</th></tr>\n",
       "</thead>\n",
       "<tbody>\n",
       "<tr><td style=\"text-align: right;\">   19</td><td>female</td><td style=\"text-align: right;\">27.9  </td><td style=\"text-align: right;\">         0</td><td>yes     </td><td>southwest</td><td style=\"text-align: right;\"> 16884.9 </td></tr>\n",
       "<tr><td style=\"text-align: right;\">   18</td><td>male  </td><td style=\"text-align: right;\">33.77 </td><td style=\"text-align: right;\">         1</td><td>no      </td><td>southeast</td><td style=\"text-align: right;\">  1725.55</td></tr>\n",
       "<tr><td style=\"text-align: right;\">   28</td><td>male  </td><td style=\"text-align: right;\">33    </td><td style=\"text-align: right;\">         3</td><td>no      </td><td>southeast</td><td style=\"text-align: right;\">  4449.46</td></tr>\n",
       "<tr><td style=\"text-align: right;\">   33</td><td>male  </td><td style=\"text-align: right;\">22.705</td><td style=\"text-align: right;\">         0</td><td>no      </td><td>northwest</td><td style=\"text-align: right;\"> 21984.5 </td></tr>\n",
       "<tr><td style=\"text-align: right;\">   32</td><td>male  </td><td style=\"text-align: right;\">28.88 </td><td style=\"text-align: right;\">         0</td><td>no      </td><td>northwest</td><td style=\"text-align: right;\">  3866.86</td></tr>\n",
       "</tbody>\n",
       "</table>"
      ]
     },
     "metadata": {},
     "output_type": "display_data"
    },
    {
     "data": {
      "text/plain": []
     },
     "execution_count": 2,
     "metadata": {},
     "output_type": "execute_result"
    }
   ],
   "source": [
    "#cargamos los datos en un dataframe de h2o\n",
    "data = h2o.upload_file(\"../data/insurance.csv\")\n",
    "data.head(5)"
   ]
  },
  {
   "cell_type": "code",
   "execution_count": 3,
   "metadata": {},
   "outputs": [],
   "source": [
    "#elegimos cual es el target y las variables de entrenamiento\n",
    "target = \"charges\"\n",
    "train_cols = [column for column in data.col_names if column != target]"
   ]
  },
  {
   "cell_type": "code",
   "execution_count": 4,
   "metadata": {},
   "outputs": [],
   "source": [
    "#dividimos el dataset en training y validación\n",
    "train, valid = data.split_frame(ratios=[0.7],\n",
    "                                seed=1,\n",
    "                                destination_frames=['train', 'valid'])"
   ]
  },
  {
   "cell_type": "markdown",
   "metadata": {},
   "source": [
    "### Entrenamos un [AutoML](http://docs.h2o.ai/h2o/latest-stable/h2o-docs/automl.html) de H2O\n",
    "\n",
    "#### Pasos para entrenar un AutoML (*automatic machine learning*) de H2O\n",
    "1) Especificar el dataset de training y de validation <br>\n",
    "2) Indicar las columnas de entrenamiento y el target. <br>\n",
    "3) Correr el AutoML durante un máximo de tiempo y/o modelos <br>\n",
    "4) Revisar el leaderboard y métricas de los modelos. <br>\n",
    "5) Guardar el modelo -> binario o MOJO <br>\n"
   ]
  },
  {
   "cell_type": "code",
   "execution_count": 5,
   "metadata": {},
   "outputs": [],
   "source": [
    "from h2o.automl import H2OAutoML"
   ]
  },
  {
   "cell_type": "code",
   "execution_count": 6,
   "metadata": {},
   "outputs": [],
   "source": [
    "automl = H2OAutoML(nfolds=3, seed=1, max_models=20)"
   ]
  },
  {
   "cell_type": "code",
   "execution_count": 7,
   "metadata": {},
   "outputs": [
    {
     "name": "stdout",
     "output_type": "stream",
     "text": [
      "AutoML progress: |████████████████████████████████████████████████████████| 100%\n"
     ]
    }
   ],
   "source": [
    "automl.train(x=train_cols, y=target, training_frame=train, validation_frame=valid)"
   ]
  },
  {
   "cell_type": "code",
   "execution_count": 8,
   "metadata": {},
   "outputs": [
    {
     "data": {
      "text/html": [
       "<table>\n",
       "<thead>\n",
       "<tr><th>model_id                                     </th><th style=\"text-align: right;\">  mean_residual_deviance</th><th style=\"text-align: right;\">   rmse</th><th style=\"text-align: right;\">        mse</th><th style=\"text-align: right;\">    mae</th><th style=\"text-align: right;\">   rmsle</th></tr>\n",
       "</thead>\n",
       "<tbody>\n",
       "<tr><td>XGBoost_grid_1_AutoML_20190904_182654_model_3</td><td style=\"text-align: right;\">             2.0548e+07 </td><td style=\"text-align: right;\">4532.99</td><td style=\"text-align: right;\">2.0548e+07 </td><td style=\"text-align: right;\">2395.39</td><td style=\"text-align: right;\">0.431831</td></tr>\n",
       "<tr><td>XGBoost_2_AutoML_20190904_182654             </td><td style=\"text-align: right;\">             2.1362e+07 </td><td style=\"text-align: right;\">4621.9 </td><td style=\"text-align: right;\">2.1362e+07 </td><td style=\"text-align: right;\">2484.75</td><td style=\"text-align: right;\">0.474911</td></tr>\n",
       "<tr><td>XGBoost_3_AutoML_20190904_182654             </td><td style=\"text-align: right;\">             2.14218e+07</td><td style=\"text-align: right;\">4628.36</td><td style=\"text-align: right;\">2.14218e+07</td><td style=\"text-align: right;\">2474.71</td><td style=\"text-align: right;\">0.441061</td></tr>\n",
       "<tr><td>XGBoost_grid_1_AutoML_20190904_182654_model_4</td><td style=\"text-align: right;\">             2.18696e+07</td><td style=\"text-align: right;\">4676.5 </td><td style=\"text-align: right;\">2.18696e+07</td><td style=\"text-align: right;\">2482.65</td><td style=\"text-align: right;\">0.441022</td></tr>\n",
       "<tr><td>XGBoost_grid_1_AutoML_20190904_182654_model_1</td><td style=\"text-align: right;\">             2.21074e+07</td><td style=\"text-align: right;\">4701.85</td><td style=\"text-align: right;\">2.21074e+07</td><td style=\"text-align: right;\">2669.4 </td><td style=\"text-align: right;\">0.453778</td></tr>\n",
       "<tr><td>XGBoost_1_AutoML_20190904_182654             </td><td style=\"text-align: right;\">             2.21078e+07</td><td style=\"text-align: right;\">4701.89</td><td style=\"text-align: right;\">2.21078e+07</td><td style=\"text-align: right;\">2557.37</td><td style=\"text-align: right;\">0.473288</td></tr>\n",
       "<tr><td>GBM_grid_1_AutoML_20190904_182654_model_1    </td><td style=\"text-align: right;\">             2.27717e+07</td><td style=\"text-align: right;\">4771.97</td><td style=\"text-align: right;\">2.27717e+07</td><td style=\"text-align: right;\">2689.43</td><td style=\"text-align: right;\">0.489945</td></tr>\n",
       "<tr><td>DRF_1_AutoML_20190904_182654                 </td><td style=\"text-align: right;\">             2.30757e+07</td><td style=\"text-align: right;\">4803.72</td><td style=\"text-align: right;\">2.30757e+07</td><td style=\"text-align: right;\">2750.15</td><td style=\"text-align: right;\">0.466945</td></tr>\n",
       "<tr><td>GBM_3_AutoML_20190904_182654                 </td><td style=\"text-align: right;\">             2.31705e+07</td><td style=\"text-align: right;\">4813.58</td><td style=\"text-align: right;\">2.31705e+07</td><td style=\"text-align: right;\">2808.5 </td><td style=\"text-align: right;\">0.505628</td></tr>\n",
       "<tr><td>XRT_1_AutoML_20190904_182654                 </td><td style=\"text-align: right;\">             2.3174e+07 </td><td style=\"text-align: right;\">4813.94</td><td style=\"text-align: right;\">2.3174e+07 </td><td style=\"text-align: right;\">2766.96</td><td style=\"text-align: right;\">0.465143</td></tr>\n",
       "</tbody>\n",
       "</table>"
      ]
     },
     "metadata": {},
     "output_type": "display_data"
    },
    {
     "data": {
      "text/plain": []
     },
     "execution_count": 8,
     "metadata": {},
     "output_type": "execute_result"
    }
   ],
   "source": [
    "automl.leaderboard"
   ]
  },
  {
   "cell_type": "code",
   "execution_count": 40,
   "metadata": {},
   "outputs": [],
   "source": [
    "model = automl.leader"
   ]
  },
  {
   "cell_type": "markdown",
   "metadata": {},
   "source": [
    "### Machine Learning en Producción\n",
    "\n",
    "<img src=\"model.jpg\" alt=\"Markdown Monster icon\" style=\"float: left; margin-right: 10px;\" />"
   ]
  },
  {
   "cell_type": "markdown",
   "metadata": {},
   "source": [
    "### Exportamos el modelo como [MOJO](http://docs.h2o.ai/h2o/latest-stable/h2o-docs/productionizing.html) (Model Object, Optimized) \n",
    "\n",
    ">H2O-generated MOJO and POJO models are intended to be easily embeddable in any Java environment. The only compilation and runtime dependency for a generated model is the h2o-genmodel.jar file produced as the build output of these packages\n",
    "\n",
    "* MOJOs funcionan con AutoML, Deep Learning, DRF, GBM, GLM, GLRM, K-Means, Stacked Ensembles, SVM, Word2vec, y XGBoost.\n",
    "* MOJOs pueden ser integrados en cualquier aplicación/ambiente que utilice Java. (Kafka, Storm, AWS Lambda, etc)\n",
    "* Soporte automático para variables [categoricas](http://docs.h2o.ai/h2o/latest-stable/h2o-docs/data-science/algo-params/categorical_encoding.html).\n",
    "* Buenos tiempos de respuesta al momento de predecir.\n",
    "* Nuevas versiones de H2O soportan [Target Encoding](http://docs.h2o.ai/h2o/latest-stable/h2o-docs/data-munging/target-encoding.html)."
   ]
  },
  {
   "cell_type": "code",
   "execution_count": 42,
   "metadata": {},
   "outputs": [
    {
     "data": {
      "text/plain": [
       "'/Users/maravenag/Desktop/presentacion_meetup/models/XGBoost_grid_1_AutoML_20190828_132329_model_3.zip'"
      ]
     },
     "execution_count": 42,
     "metadata": {},
     "output_type": "execute_result"
    }
   ],
   "source": [
    "model.download_mojo(path=\"../models/\", get_genmodel_jar=True)"
   ]
  },
  {
   "cell_type": "markdown",
   "metadata": {},
   "source": [
    "#### Incorporamos nuestro modelo en una App de Java\n",
    "\n",
    "\n",
    "<pre>\n",
    "package demo;\n",
    "<b>import hex.genmodel.easy.EasyPredictModelWrapper;</b>\n",
    "<b>import hex.genmodel.easy.RowData;</b>\n",
    "<b>import hex.genmodel.MojoModel;</b>\n",
    "<b>import hex.genmodel.easy.prediction.RegressionModelPrediction;</b>\n",
    "import java.io.IOException;\n",
    "import io.javalin.Javalin;\n",
    "\n",
    "public class App {\n",
    "  public static void main(String[] args) throws IOException {\n",
    "    String modelPath = args[0];\n",
    "    <b>EasyPredictModelWrapper model = new EasyPredictModelWrapper(MojoModel.load(modelPath));</b>\n",
    "    Javalin app = Javalin.start(8080);\n",
    "    \n",
    "    app.get(\"/predict\", ctx -> {\n",
    "      <b>RowData params = new RowData();</b>\n",
    "      ctx.queryParamMap().forEach((param, value) -> {\n",
    "        <b>params.put(param, value);</b>\n",
    "      });\n",
    "      <b>RegressionModelPrediction prediction = model.predictRegression(params);</b>\n",
    "      ctx.result(\"prediction: \"+ <b>prediction.value</b>);\n",
    "    });\n",
    "    //http://localhost:8080/predict?age=19&sex=male&bmi=27.9&children=0&region=southwest\n",
    "  }\n",
    "}\n",
    "</pre>"
   ]
  },
  {
   "cell_type": "markdown",
   "metadata": {},
   "source": [
    "### Desafios de modelos de machine learning en producción\n",
    "\n",
    "* Cambios en el comportamiento de los datos en el tiempo *(data drift, concept drift)*\n",
    "<img src=\"drift.jpg\" alt=\"Markdown Monster icon\" style=\"float: left; margin-right: 10px;\"/>"
   ]
  },
  {
   "cell_type": "markdown",
   "metadata": {},
   "source": [
    "* Monitoreo de la aplicación que sirve el modelo, como también de las predicciones.\n",
    "\n",
    "<img src=\"viz_full.png\" alt=\"Markdown Monster icon\" style=\"float: left; margin-right: 10px; width: 50%; height: auto;\"/>"
   ]
  },
  {
   "cell_type": "markdown",
   "metadata": {},
   "source": [
    "* Transparencia del modelo a diferentes stackeholders -> utilizar técnicas de interpretabilidad\n",
    "\n",
    "<img src=\"shap.png\" alt=\"Markdown Monster icon\" style=\"float: left; margin-right: 10px; width: 70%; height: auto;\"/>"
   ]
  },
  {
   "cell_type": "markdown",
   "metadata": {},
   "source": [
    "* La data necesaria para el modelo no está disponible al momento de producción.\n",
    "* Puede haber falta de colaboración entre equipos de **data science** y **operaciones/TI**."
   ]
  },
  {
   "cell_type": "markdown",
   "metadata": {},
   "source": [
    "* Mantener algunos modelos puede ser costoso por el procesamiento necesario.\n",
    "\n",
    "<img src=\"aws_pricing.png\" alt=\"Markdown Monster icon\" style=\"float: left; margin-right: 10px; width: 70%; height: auto;\"/>"
   ]
  },
  {
   "cell_type": "markdown",
   "metadata": {},
   "source": [
    "### Algunas [recetas](http://docs.h2o.ai/h2o/latest-stable/h2o-docs/productionizing.html#example-design-patterns) de H2O para modelos de producción"
   ]
  }
 ],
 "metadata": {
  "kernelspec": {
   "display_name": "Python [conda env:meetup]",
   "language": "python",
   "name": "conda-env-meetup-py"
  },
  "language_info": {
   "codemirror_mode": {
    "name": "ipython",
    "version": 3
   },
   "file_extension": ".py",
   "mimetype": "text/x-python",
   "name": "python",
   "nbconvert_exporter": "python",
   "pygments_lexer": "ipython3",
   "version": "3.6.7"
  }
 },
 "nbformat": 4,
 "nbformat_minor": 2
}
